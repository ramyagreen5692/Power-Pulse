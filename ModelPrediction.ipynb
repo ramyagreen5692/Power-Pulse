{
 "cells": [
  {
   "cell_type": "code",
   "execution_count": null,
   "metadata": {},
   "outputs": [],
   "source": [
    "#Load and explore the dataset\n",
    "import pandas as pd\n",
    "\n",
    "# Define the file path\n",
    "file_path = r\"D:\\PowerPulse\\household_power_consumption.txt\"\n",
    "\n",
    "# Load the dataset\n",
    "df = pd.read_csv(\n",
    "    file_path, \n",
    "    sep=';', \n",
    "    low_memory=False, \n",
    "    na_values='?', \n",
    "    parse_dates=[[0, 1]],  # Combine Date and Time into one column\n",
    "    infer_datetime_format=True\n",
    ")\n",
    "\n",
    "# Rename the combined column\n",
    "df.rename(columns={'Date_Time': 'DateTime'}, inplace=True)\n",
    "\n",
    "# Set datetime as index (optional for time series)\n",
    "df.set_index('DateTime', inplace=True)\n",
    "\n",
    "# Preview the data\n",
    "df.head()"
   ]
  }
 ],
 "metadata": {
  "language_info": {
   "name": "python"
  }
 },
 "nbformat": 4,
 "nbformat_minor": 2
}
